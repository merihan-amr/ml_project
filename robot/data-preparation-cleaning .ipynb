{
 "cells": [
  {
   "cell_type": "code",
   "execution_count": 1,
   "metadata": {},
   "outputs": [
    {
     "name": "stdout",
     "output_type": "stream",
     "text": [
      "['lp1.xls( failure1).xlsx', 'lp2.xls(failures in transfer of a part).xlsx', 'lp3.xls(position of part after a transfer failure).xlsx', 'lp4.txt(failures in approach to ungrasp position).xlsx', 'lp5.txt( failures in motion with part).xlsx']\n"
     ]
    }
   ],
   "source": [
    "#get all excel files in the data directory\n",
    "import os\n",
    "excel_files = [f for f in os.listdir('data') if f.endswith('.xlsx')]\n",
    "print(excel_files)"
   ]
  },
  {
   "cell_type": "code",
   "execution_count": 2,
   "metadata": {},
   "outputs": [],
   "source": [
    "from sklearn.preprocessing import OrdinalEncoder\n",
    "import pandas as pd\n",
    "for execfile in excel_files:\n",
    "    df = pd.read_excel(f'data/{execfile}')\n",
    "    df.head(20)\n",
    "    # delete empty rows\n",
    "    df = df.dropna(how='all')\n",
    "    df.head(20)\n",
    "    #fill empty celles in class column based on the previous value\n",
    "    df['class'] = df['class'].fillna(method='ffill')\n",
    "    df.head(20)\n",
    "    # delete rows with missing values\n",
    "    df = df.dropna()\n",
    "\n",
    "    # apply ordinal encoder to the class column \n",
    "    \n",
    "    encoder = OrdinalEncoder()\n",
    "    df['class-oridnal'] = encoder.fit_transform(df[['class']])\n",
    "    df.head(20)\n",
    "\n",
    "    df.to_excel(f'cleaned-data/cleaned-{execfile}', index=False)"
   ]
  },
  {
   "cell_type": "code",
   "execution_count": 3,
   "metadata": {},
   "outputs": [
    {
     "data": {
      "text/html": [
       "<div>\n",
       "<style scoped>\n",
       "    .dataframe tbody tr th:only-of-type {\n",
       "        vertical-align: middle;\n",
       "    }\n",
       "\n",
       "    .dataframe tbody tr th {\n",
       "        vertical-align: top;\n",
       "    }\n",
       "\n",
       "    .dataframe thead th {\n",
       "        text-align: right;\n",
       "    }\n",
       "</style>\n",
       "<table border=\"1\" class=\"dataframe\">\n",
       "  <thead>\n",
       "    <tr style=\"text-align: right;\">\n",
       "      <th></th>\n",
       "      <th>Fx</th>\n",
       "      <th>Fy</th>\n",
       "      <th>Fz</th>\n",
       "      <th>Tx</th>\n",
       "      <th>Ty</th>\n",
       "      <th>Tz</th>\n",
       "      <th>class-oridnal</th>\n",
       "    </tr>\n",
       "  </thead>\n",
       "  <tbody>\n",
       "    <tr>\n",
       "      <th>count</th>\n",
       "      <td>2460.000000</td>\n",
       "      <td>2460.000000</td>\n",
       "      <td>2460.000000</td>\n",
       "      <td>2460.000000</td>\n",
       "      <td>2460.000000</td>\n",
       "      <td>2460.000000</td>\n",
       "      <td>2460.000000</td>\n",
       "    </tr>\n",
       "    <tr>\n",
       "      <th>mean</th>\n",
       "      <td>0.081301</td>\n",
       "      <td>-6.619919</td>\n",
       "      <td>-92.172358</td>\n",
       "      <td>1.210163</td>\n",
       "      <td>-5.078049</td>\n",
       "      <td>-3.348374</td>\n",
       "      <td>2.250000</td>\n",
       "    </tr>\n",
       "    <tr>\n",
       "      <th>std</th>\n",
       "      <td>61.002329</td>\n",
       "      <td>47.449679</td>\n",
       "      <td>509.211974</td>\n",
       "      <td>65.809967</td>\n",
       "      <td>71.855830</td>\n",
       "      <td>19.966548</td>\n",
       "      <td>1.390032</td>\n",
       "    </tr>\n",
       "    <tr>\n",
       "      <th>min</th>\n",
       "      <td>-883.000000</td>\n",
       "      <td>-382.000000</td>\n",
       "      <td>-3617.000000</td>\n",
       "      <td>-824.000000</td>\n",
       "      <td>-725.000000</td>\n",
       "      <td>-248.000000</td>\n",
       "      <td>0.000000</td>\n",
       "    </tr>\n",
       "    <tr>\n",
       "      <th>25%</th>\n",
       "      <td>-5.000000</td>\n",
       "      <td>-5.000000</td>\n",
       "      <td>-5.000000</td>\n",
       "      <td>-9.000000</td>\n",
       "      <td>-17.000000</td>\n",
       "      <td>-6.000000</td>\n",
       "      <td>1.000000</td>\n",
       "    </tr>\n",
       "    <tr>\n",
       "      <th>50%</th>\n",
       "      <td>-2.000000</td>\n",
       "      <td>0.000000</td>\n",
       "      <td>10.000000</td>\n",
       "      <td>0.000000</td>\n",
       "      <td>-5.000000</td>\n",
       "      <td>-2.000000</td>\n",
       "      <td>2.000000</td>\n",
       "    </tr>\n",
       "    <tr>\n",
       "      <th>75%</th>\n",
       "      <td>2.000000</td>\n",
       "      <td>2.000000</td>\n",
       "      <td>74.000000</td>\n",
       "      <td>5.000000</td>\n",
       "      <td>3.000000</td>\n",
       "      <td>1.000000</td>\n",
       "      <td>4.000000</td>\n",
       "    </tr>\n",
       "    <tr>\n",
       "      <th>max</th>\n",
       "      <td>462.000000</td>\n",
       "      <td>438.000000</td>\n",
       "      <td>418.000000</td>\n",
       "      <td>1016.000000</td>\n",
       "      <td>756.000000</td>\n",
       "      <td>244.000000</td>\n",
       "      <td>4.000000</td>\n",
       "    </tr>\n",
       "  </tbody>\n",
       "</table>\n",
       "</div>"
      ],
      "text/plain": [
       "                Fx           Fy           Fz           Tx           Ty  \\\n",
       "count  2460.000000  2460.000000  2460.000000  2460.000000  2460.000000   \n",
       "mean      0.081301    -6.619919   -92.172358     1.210163    -5.078049   \n",
       "std      61.002329    47.449679   509.211974    65.809967    71.855830   \n",
       "min    -883.000000  -382.000000 -3617.000000  -824.000000  -725.000000   \n",
       "25%      -5.000000    -5.000000    -5.000000    -9.000000   -17.000000   \n",
       "50%      -2.000000     0.000000    10.000000     0.000000    -5.000000   \n",
       "75%       2.000000     2.000000    74.000000     5.000000     3.000000   \n",
       "max     462.000000   438.000000   418.000000  1016.000000   756.000000   \n",
       "\n",
       "                Tz  class-oridnal  \n",
       "count  2460.000000    2460.000000  \n",
       "mean     -3.348374       2.250000  \n",
       "std      19.966548       1.390032  \n",
       "min    -248.000000       0.000000  \n",
       "25%      -6.000000       1.000000  \n",
       "50%      -2.000000       2.000000  \n",
       "75%       1.000000       4.000000  \n",
       "max     244.000000       4.000000  "
      ]
     },
     "execution_count": 3,
     "metadata": {},
     "output_type": "execute_result"
    }
   ],
   "source": [
    "df.describe()"
   ]
  },
  {
   "cell_type": "code",
   "execution_count": 4,
   "metadata": {},
   "outputs": [
    {
     "name": "stdout",
     "output_type": "stream",
     "text": [
      "<class 'pandas.core.frame.DataFrame'>\n",
      "Int64Index: 2460 entries, 0 to 2948\n",
      "Data columns (total 8 columns):\n",
      " #   Column         Non-Null Count  Dtype  \n",
      "---  ------         --------------  -----  \n",
      " 0   class          2460 non-null   object \n",
      " 1   Fx             2460 non-null   float64\n",
      " 2   Fy             2460 non-null   float64\n",
      " 3   Fz             2460 non-null   float64\n",
      " 4   Tx             2460 non-null   float64\n",
      " 5   Ty             2460 non-null   float64\n",
      " 6   Tz             2460 non-null   float64\n",
      " 7   class-oridnal  2460 non-null   float64\n",
      "dtypes: float64(7), object(1)\n",
      "memory usage: 173.0+ KB\n"
     ]
    }
   ],
   "source": [
    "df.info()"
   ]
  }
 ],
 "metadata": {
  "kernelspec": {
   "display_name": "Python 3 (ipykernel)",
   "language": "python",
   "name": "python3"
  },
  "language_info": {
   "codemirror_mode": {
    "name": "ipython",
    "version": 3
   },
   "file_extension": ".py",
   "mimetype": "text/x-python",
   "name": "python",
   "nbconvert_exporter": "python",
   "pygments_lexer": "ipython3",
   "version": "3.10.9"
  }
 },
 "nbformat": 4,
 "nbformat_minor": 2
}
