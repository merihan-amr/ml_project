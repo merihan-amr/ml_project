{
 "cells": [
  {
   "cell_type": "code",
   "execution_count": 3,
   "id": "ab461ede",
   "metadata": {},
   "outputs": [
    {
     "name": "stdout",
     "output_type": "stream",
     "text": [
      "['cleaned-lp1.xls( failure1).xlsx', 'cleaned-lp3.xls(position of part after a transfer failure).xlsx', 'cleaned-lp4.txt(failures in approach to ungrasp position).xlsx', 'cleaned-lp5.txt( failures in motion with part).xlsx', 'lp2_cleaned.xlsx']\n"
     ]
    }
   ],
   "source": [
    "#get all excel files in the data directory\n",
    "import os\n",
    "excel_files = [f for f in os.listdir('cleaned-data') if f.endswith('.xlsx')]\n",
    "print(excel_files)"
   ]
  },
  {
   "cell_type": "code",
   "execution_count": 5,
   "id": "f097da31",
   "metadata": {},
   "outputs": [
    {
     "name": "stdout",
     "output_type": "stream",
     "text": [
      "    class  Fx  Fy  Fz  Tx  Ty Tz  class-oridnal\n",
      "0  normal  -1  -1  63  -3  -1  0              2\n",
      "1  normal   0   0  62  -3  -1  0              2\n",
      "2  normal  -1  -1  61  -3   0  0              2\n",
      "3  normal  -1  -1  63  -2  -1  0              2\n",
      "4  normal  -1  -1  63  -3  -1  0              2\n"
     ]
    }
   ],
   "source": [
    "import pandas as pd\n",
    "\n",
    "# Method 1: Using a raw string\n",
    "file_path = f'cleaned-data/{excel_files[0]}'\n",
    "\n",
    "\n",
    "# Load the Excel file\n",
    "df = pd.read_excel(file_path)\n",
    "print(df.head())"
   ]
  },
  {
   "cell_type": "code",
   "execution_count": 6,
   "id": "b3b921de",
   "metadata": {},
   "outputs": [
    {
     "name": "stdout",
     "output_type": "stream",
     "text": [
      "  class  Fx  Fy  Fz  Tx  Ty  Tz  class-oridnal\n",
      "0    ok  -2  -1  81   0  -5   0              2\n",
      "1    ok  -2  -1  79   0  -4   0              2\n",
      "2    ok  -2  -1  79   0  -4   0              2\n",
      "3    ok  -2  -1  80   0  -4   0              2\n",
      "4    ok  -3  -1  79   1  -5   1              2\n"
     ]
    }
   ],
   "source": [
    "import pandas as pd\n",
    "\n",
    "# Method 1: Using a raw string\n",
    "file_path = f'cleaned-data/{excel_files[1]}'\n",
    "\n",
    "\n",
    "# Load the Excel file\n",
    "df = pd.read_excel(file_path)\n",
    "print(df.head())"
   ]
  },
  {
   "cell_type": "code",
   "execution_count": 7,
   "id": "df8b5af2",
   "metadata": {},
   "outputs": [
    {
     "name": "stdout",
     "output_type": "stream",
     "text": [
      "    class  Fx  Fy  Fz  Tx  Ty  Tz  class-oridnal\n",
      "0  normal  -2   2  20   5  -6  -1              1\n",
      "1  normal  -2   1  20   5  -6   0              1\n",
      "2  normal  -2   1  23   5  -6   0              1\n",
      "3  normal  -2   2  20   5  -6  -1              1\n",
      "4  normal  -3   1  22   5  -6  -1              1\n"
     ]
    }
   ],
   "source": [
    "import pandas as pd\n",
    "\n",
    "# Method 1: Using a raw string\n",
    "file_path = f'cleaned-data/{excel_files[2]}'\n",
    "\n",
    "\n",
    "# Load the Excel file\n",
    "df = pd.read_excel(file_path)\n",
    "print(df.head())"
   ]
  },
  {
   "cell_type": "code",
   "execution_count": 8,
   "id": "d769ffa9",
   "metadata": {},
   "outputs": [
    {
     "name": "stdout",
     "output_type": "stream",
     "text": [
      "    class  Fx  Fy  Fz  Tx  Ty  Tz  class-oridnal\n",
      "0  normal  -2  -1  81   0  -5   0              4\n",
      "1  normal  -2  -1  79   0  -4   0              4\n",
      "2  normal  -2  -1  79   0  -4   0              4\n",
      "3  normal  -2  -1  80   0  -4   0              4\n",
      "4  normal  -3  -1  79   1  -5   1              4\n"
     ]
    }
   ],
   "source": [
    "import pandas as pd\n",
    "\n",
    "# Method 1: Using a raw string\n",
    "file_path = f'cleaned-data/{excel_files[3]}'\n",
    "\n",
    "\n",
    "# Load the Excel file\n",
    "df = pd.read_excel(file_path)\n",
    "print(df.head())"
   ]
  },
  {
   "cell_type": "code",
   "execution_count": 10,
   "id": "c6342861",
   "metadata": {},
   "outputs": [
    {
     "data": {
      "text/html": [
       "<div>\n",
       "<style scoped>\n",
       "    .dataframe tbody tr th:only-of-type {\n",
       "        vertical-align: middle;\n",
       "    }\n",
       "\n",
       "    .dataframe tbody tr th {\n",
       "        vertical-align: top;\n",
       "    }\n",
       "\n",
       "    .dataframe thead th {\n",
       "        text-align: right;\n",
       "    }\n",
       "</style>\n",
       "<table border=\"1\" class=\"dataframe\">\n",
       "  <thead>\n",
       "    <tr style=\"text-align: right;\">\n",
       "      <th></th>\n",
       "      <th>class</th>\n",
       "      <th>Fx</th>\n",
       "      <th>Fy</th>\n",
       "      <th>Fz</th>\n",
       "      <th>Tx</th>\n",
       "      <th>Ty</th>\n",
       "      <th>Tz</th>\n",
       "      <th>class-oridnal</th>\n",
       "    </tr>\n",
       "  </thead>\n",
       "  <tbody>\n",
       "    <tr>\n",
       "      <th>0</th>\n",
       "      <td>normal</td>\n",
       "      <td>-2</td>\n",
       "      <td>-1</td>\n",
       "      <td>81</td>\n",
       "      <td>0</td>\n",
       "      <td>-5</td>\n",
       "      <td>0</td>\n",
       "      <td>3</td>\n",
       "    </tr>\n",
       "    <tr>\n",
       "      <th>1</th>\n",
       "      <td>normal</td>\n",
       "      <td>-2</td>\n",
       "      <td>-1</td>\n",
       "      <td>79</td>\n",
       "      <td>0</td>\n",
       "      <td>-4</td>\n",
       "      <td>0</td>\n",
       "      <td>3</td>\n",
       "    </tr>\n",
       "    <tr>\n",
       "      <th>2</th>\n",
       "      <td>normal</td>\n",
       "      <td>-2</td>\n",
       "      <td>-1</td>\n",
       "      <td>79</td>\n",
       "      <td>0</td>\n",
       "      <td>-4</td>\n",
       "      <td>0</td>\n",
       "      <td>3</td>\n",
       "    </tr>\n",
       "    <tr>\n",
       "      <th>3</th>\n",
       "      <td>normal</td>\n",
       "      <td>-2</td>\n",
       "      <td>-1</td>\n",
       "      <td>80</td>\n",
       "      <td>0</td>\n",
       "      <td>-4</td>\n",
       "      <td>0</td>\n",
       "      <td>3</td>\n",
       "    </tr>\n",
       "    <tr>\n",
       "      <th>4</th>\n",
       "      <td>normal</td>\n",
       "      <td>-3</td>\n",
       "      <td>-1</td>\n",
       "      <td>79</td>\n",
       "      <td>1</td>\n",
       "      <td>-5</td>\n",
       "      <td>1</td>\n",
       "      <td>3</td>\n",
       "    </tr>\n",
       "    <tr>\n",
       "      <th>...</th>\n",
       "      <td>...</td>\n",
       "      <td>...</td>\n",
       "      <td>...</td>\n",
       "      <td>...</td>\n",
       "      <td>...</td>\n",
       "      <td>...</td>\n",
       "      <td>...</td>\n",
       "      <td>...</td>\n",
       "    </tr>\n",
       "    <tr>\n",
       "      <th>700</th>\n",
       "      <td>back_col</td>\n",
       "      <td>3</td>\n",
       "      <td>-3</td>\n",
       "      <td>85</td>\n",
       "      <td>-9</td>\n",
       "      <td>1</td>\n",
       "      <td>-2</td>\n",
       "      <td>0</td>\n",
       "    </tr>\n",
       "    <tr>\n",
       "      <th>701</th>\n",
       "      <td>back_col</td>\n",
       "      <td>-4</td>\n",
       "      <td>4</td>\n",
       "      <td>85</td>\n",
       "      <td>-15</td>\n",
       "      <td>-8</td>\n",
       "      <td>-2</td>\n",
       "      <td>0</td>\n",
       "    </tr>\n",
       "    <tr>\n",
       "      <th>702</th>\n",
       "      <td>back_col</td>\n",
       "      <td>-1</td>\n",
       "      <td>3</td>\n",
       "      <td>80</td>\n",
       "      <td>-13</td>\n",
       "      <td>-2</td>\n",
       "      <td>0</td>\n",
       "      <td>0</td>\n",
       "    </tr>\n",
       "    <tr>\n",
       "      <th>703</th>\n",
       "      <td>back_col</td>\n",
       "      <td>-8</td>\n",
       "      <td>2</td>\n",
       "      <td>87</td>\n",
       "      <td>-7</td>\n",
       "      <td>-16</td>\n",
       "      <td>0</td>\n",
       "      <td>0</td>\n",
       "    </tr>\n",
       "    <tr>\n",
       "      <th>704</th>\n",
       "      <td>back_col</td>\n",
       "      <td>-10</td>\n",
       "      <td>1</td>\n",
       "      <td>80</td>\n",
       "      <td>-7</td>\n",
       "      <td>-24</td>\n",
       "      <td>-4</td>\n",
       "      <td>0</td>\n",
       "    </tr>\n",
       "  </tbody>\n",
       "</table>\n",
       "<p>705 rows × 8 columns</p>\n",
       "</div>"
      ],
      "text/plain": [
       "        class  Fx  Fy  Fz  Tx  Ty  Tz  class-oridnal\n",
       "0      normal  -2  -1  81   0  -5   0              3\n",
       "1      normal  -2  -1  79   0  -4   0              3\n",
       "2      normal  -2  -1  79   0  -4   0              3\n",
       "3      normal  -2  -1  80   0  -4   0              3\n",
       "4      normal  -3  -1  79   1  -5   1              3\n",
       "..        ...  ..  ..  ..  ..  ..  ..            ...\n",
       "700  back_col   3  -3  85  -9   1  -2              0\n",
       "701  back_col  -4   4  85 -15  -8  -2              0\n",
       "702  back_col  -1   3  80 -13  -2   0              0\n",
       "703  back_col  -8   2  87  -7 -16   0              0\n",
       "704  back_col -10   1  80  -7 -24  -4              0\n",
       "\n",
       "[705 rows x 8 columns]"
      ]
     },
     "execution_count": 10,
     "metadata": {},
     "output_type": "execute_result"
    }
   ],
   "source": [
    "import pandas as pd\n",
    "\n",
    "# Method 1: Using a raw string\n",
    "file_path = f'cleaned-data/{excel_files[4]}'\n",
    "\n",
    "\n",
    "# Load the Excel file\n",
    "df = pd.read_excel(file_path)\n",
    "# print(df.head())\n",
    "df"
   ]
  },
  {
   "cell_type": "code",
   "execution_count": null,
   "id": "1c25cbdc",
   "metadata": {},
   "outputs": [],
   "source": [
    "import pandas as pd\n",
    "\n",
    "# Method 1: Using a raw string\n",
    "file_path = r'cleaned-data/cleaned-lp1.xls( failure1).xlsx'\n",
    "\n",
    "# OR Method 2: Using forward slashes\n",
    "# file_path = 'C:/Users/merih/Downloads/ml_project/robot/lp2_cleaned.xlsx'\n",
    "\n",
    "# Load the Excel file\n",
    "df = pd.read_excel(file_path)\n",
    "print(df.head(20))"
   ]
  }
 ],
 "metadata": {
  "kernelspec": {
   "display_name": "Python 3 (ipykernel)",
   "language": "python",
   "name": "python3"
  },
  "language_info": {
   "codemirror_mode": {
    "name": "ipython",
    "version": 3
   },
   "file_extension": ".py",
   "mimetype": "text/x-python",
   "name": "python",
   "nbconvert_exporter": "python",
   "pygments_lexer": "ipython3",
   "version": "3.10.9"
  }
 },
 "nbformat": 4,
 "nbformat_minor": 5
}
