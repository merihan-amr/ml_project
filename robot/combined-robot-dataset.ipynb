{
 "cells": [
  {
   "cell_type": "code",
   "execution_count": 1,
   "metadata": {},
   "outputs": [
    {
     "name": "stdout",
     "output_type": "stream",
     "text": [
      "['lp1.xls( failure1).xlsx', 'lp5.txt( failures in motion with part).xlsx', 'lp4.txt(failures in approach to ungrasp position).xlsx', 'lp3.xls(position of part after a transfer failure).xlsx', 'lp2.xls(failures in transfer of a part).xlsx']\n"
     ]
    }
   ],
   "source": [
    "#get all excel files in the data directory\n",
    "import os\n",
    "excel_files = [f for f in os.listdir('data') if f.endswith('.xlsx')]\n",
    "print(excel_files)"
   ]
  },
  {
   "cell_type": "code",
   "execution_count": 4,
   "metadata": {},
   "outputs": [
    {
     "name": "stdout",
     "output_type": "stream",
     "text": [
      "Hello, world!\n"
     ]
    }
   ],
   "source": [
    "print('Hello, world!')\n",
    "from sklearn.preprocessing import OrdinalEncoder\n",
    "import pandas as pd\n",
    "for execfile in excel_files:\n",
    "    df = pd.read_excel(f'data/{execfile}')\n",
    "    df.head(20)\n",
    "    # delete empty rows\n",
    "    df = df.dropna(how='all')\n",
    "    df.head(20)\n",
    "    #fill empty celles in class column based on the previous value\n",
    "    df['class'] = df['class'].fillna(method='ffill')\n",
    "    df.head(20)\n",
    "    # delete rows with missing values\n",
    "    df = df.dropna()\n",
    "\n",
    "    # apply ordinal encoder to the class column \n",
    "    \n",
    "    encoder = OrdinalEncoder()\n",
    "    df['class-oridnal'] = encoder.fit_transform(df[['class']])\n",
    "    df.head(20)\n",
    "\n",
    "    df.to_excel(f'cleaned-data/cleaned-{execfile}', index=False)"
   ]
  },
  {
   "cell_type": "code",
   "execution_count": 21,
   "metadata": {},
   "outputs": [
    {
     "data": {
      "text/html": [
       "<div>\n",
       "<style scoped>\n",
       "    .dataframe tbody tr th:only-of-type {\n",
       "        vertical-align: middle;\n",
       "    }\n",
       "\n",
       "    .dataframe tbody tr th {\n",
       "        vertical-align: top;\n",
       "    }\n",
       "\n",
       "    .dataframe thead th {\n",
       "        text-align: right;\n",
       "    }\n",
       "</style>\n",
       "<table border=\"1\" class=\"dataframe\">\n",
       "  <thead>\n",
       "    <tr style=\"text-align: right;\">\n",
       "      <th></th>\n",
       "      <th>class-oridnal</th>\n",
       "    </tr>\n",
       "  </thead>\n",
       "  <tbody>\n",
       "    <tr>\n",
       "      <th>count</th>\n",
       "      <td>1321.000000</td>\n",
       "    </tr>\n",
       "    <tr>\n",
       "      <th>mean</th>\n",
       "      <td>1.819076</td>\n",
       "    </tr>\n",
       "    <tr>\n",
       "      <th>std</th>\n",
       "      <td>1.144075</td>\n",
       "    </tr>\n",
       "    <tr>\n",
       "      <th>min</th>\n",
       "      <td>0.000000</td>\n",
       "    </tr>\n",
       "    <tr>\n",
       "      <th>25%</th>\n",
       "      <td>1.000000</td>\n",
       "    </tr>\n",
       "    <tr>\n",
       "      <th>50%</th>\n",
       "      <td>2.000000</td>\n",
       "    </tr>\n",
       "    <tr>\n",
       "      <th>75%</th>\n",
       "      <td>3.000000</td>\n",
       "    </tr>\n",
       "    <tr>\n",
       "      <th>max</th>\n",
       "      <td>3.000000</td>\n",
       "    </tr>\n",
       "  </tbody>\n",
       "</table>\n",
       "</div>"
      ],
      "text/plain": [
       "       class-oridnal\n",
       "count    1321.000000\n",
       "mean        1.819076\n",
       "std         1.144075\n",
       "min         0.000000\n",
       "25%         1.000000\n",
       "50%         2.000000\n",
       "75%         3.000000\n",
       "max         3.000000"
      ]
     },
     "execution_count": 21,
     "metadata": {},
     "output_type": "execute_result"
    }
   ],
   "source": [
    "df.describe()"
   ]
  },
  {
   "cell_type": "code",
   "execution_count": 22,
   "metadata": {},
   "outputs": [
    {
     "name": "stdout",
     "output_type": "stream",
     "text": [
      "<class 'pandas.core.frame.DataFrame'>\n",
      "Int64Index: 1321 entries, 1 to 1581\n",
      "Data columns (total 8 columns):\n",
      " #   Column         Non-Null Count  Dtype  \n",
      "---  ------         --------------  -----  \n",
      " 0   class          1321 non-null   object \n",
      " 1   Fx             1321 non-null   object \n",
      " 2   Fy             1321 non-null   object \n",
      " 3   Fz             1321 non-null   object \n",
      " 4   Tx             1321 non-null   object \n",
      " 5   Ty             1321 non-null   object \n",
      " 6   Tz             1321 non-null   object \n",
      " 7   class-oridnal  1321 non-null   float64\n",
      "dtypes: float64(1), object(7)\n",
      "memory usage: 92.9+ KB\n"
     ]
    }
   ],
   "source": [
    "df.info()"
   ]
  }
 ],
 "metadata": {
  "kernelspec": {
   "display_name": "base",
   "language": "python",
   "name": "python3"
  },
  "language_info": {
   "codemirror_mode": {
    "name": "ipython",
    "version": 3
   },
   "file_extension": ".py",
   "mimetype": "text/x-python",
   "name": "python",
   "nbconvert_exporter": "python",
   "pygments_lexer": "ipython3",
   "version": "3.10.9"
  }
 },
 "nbformat": 4,
 "nbformat_minor": 2
}
